{
 "cells": [
  {
   "cell_type": "markdown",
   "id": "6d083db9",
   "metadata": {},
   "source": [
    "# Pytorch Basics"
   ]
  },
  {
   "cell_type": "code",
   "execution_count": 17,
   "id": "5d00b7f7",
   "metadata": {},
   "outputs": [],
   "source": [
    "import torch as tr"
   ]
  },
  {
   "cell_type": "code",
   "execution_count": 2,
   "id": "b537dbb7",
   "metadata": {},
   "outputs": [],
   "source": [
    "tensor = torch.Tensor(\n",
    "    [\n",
    "     [[1, 2], [3, 4]], \n",
    "     [[5, 6], [7, 8]], \n",
    "     [[9, 0], [1, 2]]\n",
    "    ]\n",
    ")"
   ]
  },
  {
   "cell_type": "code",
   "execution_count": 3,
   "id": "55330737",
   "metadata": {},
   "outputs": [
    {
     "data": {
      "text/plain": [
       "tensor([[[1., 2.],\n",
       "         [3., 4.]],\n",
       "\n",
       "        [[5., 6.],\n",
       "         [7., 8.]],\n",
       "\n",
       "        [[9., 0.],\n",
       "         [1., 2.]]])"
      ]
     },
     "execution_count": 3,
     "metadata": {},
     "output_type": "execute_result"
    }
   ],
   "source": [
    "tensor"
   ]
  },
  {
   "cell_type": "code",
   "execution_count": 5,
   "id": "15957724",
   "metadata": {},
   "outputs": [
    {
     "data": {
      "text/plain": [
       "tensor([[1., 2.],\n",
       "        [3., 4.]])"
      ]
     },
     "execution_count": 5,
     "metadata": {},
     "output_type": "execute_result"
    }
   ],
   "source": [
    "tensor[0]"
   ]
  },
  {
   "cell_type": "markdown",
   "id": "581e0ad5",
   "metadata": {},
   "source": [
    "**Tensor properties and attributes in pytorch**"
   ]
  },
  {
   "cell_type": "code",
   "execution_count": 6,
   "id": "fed57944",
   "metadata": {},
   "outputs": [
    {
     "data": {
      "text/plain": [
       "torch.Size([3, 2, 2])"
      ]
     },
     "execution_count": 6,
     "metadata": {},
     "output_type": "execute_result"
    }
   ],
   "source": [
    "tensor.shape"
   ]
  },
  {
   "cell_type": "code",
   "execution_count": 7,
   "id": "32ab897b",
   "metadata": {},
   "outputs": [
    {
     "data": {
      "text/plain": [
       "torch.Size([2, 2])"
      ]
     },
     "execution_count": 7,
     "metadata": {},
     "output_type": "execute_result"
    }
   ],
   "source": [
    "tensor[0].shape"
   ]
  },
  {
   "cell_type": "code",
   "execution_count": 8,
   "id": "ed43ec12",
   "metadata": {},
   "outputs": [
    {
     "data": {
      "text/plain": [
       "3"
      ]
     },
     "execution_count": 8,
     "metadata": {},
     "output_type": "execute_result"
    }
   ],
   "source": [
    "tensor.ndim"
   ]
  },
  {
   "cell_type": "code",
   "execution_count": 10,
   "id": "6f9efb75",
   "metadata": {},
   "outputs": [
    {
     "data": {
      "text/plain": [
       "tensor([[5., 6.],\n",
       "        [7., 8.]])"
      ]
     },
     "execution_count": 10,
     "metadata": {},
     "output_type": "execute_result"
    }
   ],
   "source": [
    "tensor[1]"
   ]
  },
  {
   "cell_type": "code",
   "execution_count": 9,
   "id": "bb0bfc5f",
   "metadata": {},
   "outputs": [
    {
     "data": {
      "text/plain": [
       "tensor(7.)"
      ]
     },
     "execution_count": 9,
     "metadata": {},
     "output_type": "execute_result"
    }
   ],
   "source": [
    "tensor[1,1,0]"
   ]
  },
  {
   "cell_type": "code",
   "execution_count": 11,
   "id": "ab63e22c",
   "metadata": {},
   "outputs": [
    {
     "data": {
      "text/plain": [
       "7.0"
      ]
     },
     "execution_count": 11,
     "metadata": {},
     "output_type": "execute_result"
    }
   ],
   "source": [
    "tensor[1,1,0].item()  # For Getting Scaler Value From Tensor"
   ]
  },
  {
   "cell_type": "code",
   "execution_count": 16,
   "id": "87a1e497",
   "metadata": {},
   "outputs": [
    {
     "data": {
      "text/plain": [
       "tensor([3., 7., 1.])"
      ]
     },
     "execution_count": 16,
     "metadata": {},
     "output_type": "execute_result"
    }
   ],
   "source": [
    "tensor[:3, 1, 0]"
   ]
  },
  {
   "cell_type": "markdown",
   "id": "143ab077",
   "metadata": {},
   "source": [
    "**Creating tensors**"
   ]
  },
  {
   "cell_type": "code",
   "execution_count": 20,
   "id": "42f1674d",
   "metadata": {},
   "outputs": [
    {
     "data": {
      "text/plain": [
       "tensor([[[1., 1., 1.],\n",
       "         [1., 1., 1.],\n",
       "         [1., 1., 1.]],\n",
       "\n",
       "        [[1., 1., 1.],\n",
       "         [1., 1., 1.],\n",
       "         [1., 1., 1.]],\n",
       "\n",
       "        [[1., 1., 1.],\n",
       "         [1., 1., 1.],\n",
       "         [1., 1., 1.]]])"
      ]
     },
     "execution_count": 20,
     "metadata": {},
     "output_type": "execute_result"
    }
   ],
   "source": [
    "tr.ones((3,3,3))"
   ]
  },
  {
   "cell_type": "code",
   "execution_count": 21,
   "id": "576bd3d1",
   "metadata": {},
   "outputs": [
    {
     "data": {
      "text/plain": [
       "tensor([[[0., 0., 0.],\n",
       "         [0., 0., 0.],\n",
       "         [0., 0., 0.]]])"
      ]
     },
     "execution_count": 21,
     "metadata": {},
     "output_type": "execute_result"
    }
   ],
   "source": [
    "tr.zeros((1,3,3))"
   ]
  },
  {
   "cell_type": "code",
   "execution_count": 28,
   "id": "c5acc617",
   "metadata": {},
   "outputs": [
    {
     "data": {
      "text/plain": [
       "tensor([[[ 0.8759,  0.0214],\n",
       "         [-0.7031, -0.2337]],\n",
       "\n",
       "        [[-0.1598, -0.5308],\n",
       "         [-0.0683, -0.3840]],\n",
       "\n",
       "        [[-0.3258,  0.2680],\n",
       "         [ 1.3206, -0.3106]]])"
      ]
     },
     "execution_count": 28,
     "metadata": {},
     "output_type": "execute_result"
    }
   ],
   "source": [
    "tr.randn_like(tensor)"
   ]
  },
  {
   "cell_type": "code",
   "execution_count": 29,
   "id": "06e77656",
   "metadata": {},
   "outputs": [
    {
     "data": {
      "text/plain": [
       "tensor([[ 0.0944, -1.2917, -1.2558],\n",
       "        [ 0.3162,  0.8001,  0.1941],\n",
       "        [ 0.9318, -0.8121,  1.7354]])"
      ]
     },
     "execution_count": 29,
     "metadata": {},
     "output_type": "execute_result"
    }
   ],
   "source": [
    "tr.randn((3,3))"
   ]
  },
  {
   "cell_type": "markdown",
   "id": "f27ebd9f",
   "metadata": {},
   "source": [
    "**Basic operation on tensor**"
   ]
  },
  {
   "cell_type": "code",
   "execution_count": 30,
   "id": "d19400e3",
   "metadata": {},
   "outputs": [
    {
     "data": {
      "text/plain": [
       "tensor([[[-4., -3.],\n",
       "         [-2., -1.]],\n",
       "\n",
       "        [[ 0.,  1.],\n",
       "         [ 2.,  3.]],\n",
       "\n",
       "        [[ 4., -5.],\n",
       "         [-4., -3.]]])"
      ]
     },
     "execution_count": 30,
     "metadata": {},
     "output_type": "execute_result"
    }
   ],
   "source": [
    "tensor-5"
   ]
  },
  {
   "cell_type": "code",
   "execution_count": 31,
   "id": "6540f8f3",
   "metadata": {},
   "outputs": [
    {
     "data": {
      "text/plain": [
       "tensor([[[10., 20.],\n",
       "         [30., 40.]],\n",
       "\n",
       "        [[50., 60.],\n",
       "         [70., 80.]],\n",
       "\n",
       "        [[90.,  0.],\n",
       "         [10., 20.]]])"
      ]
     },
     "execution_count": 31,
     "metadata": {},
     "output_type": "execute_result"
    }
   ],
   "source": [
    "tensor*10"
   ]
  },
  {
   "cell_type": "code",
   "execution_count": 32,
   "id": "79370adc",
   "metadata": {},
   "outputs": [
    {
     "data": {
      "text/plain": [
       "tensor([[[0.5000, 1.0000],\n",
       "         [1.5000, 2.0000]],\n",
       "\n",
       "        [[2.5000, 3.0000],\n",
       "         [3.5000, 4.0000]],\n",
       "\n",
       "        [[4.5000, 0.0000],\n",
       "         [0.5000, 1.0000]]])"
      ]
     },
     "execution_count": 32,
     "metadata": {},
     "output_type": "execute_result"
    }
   ],
   "source": [
    "tensor/2"
   ]
  },
  {
   "cell_type": "code",
   "execution_count": 33,
   "id": "680b2f32",
   "metadata": {},
   "outputs": [
    {
     "data": {
      "text/plain": [
       "tensor(4.)"
      ]
     },
     "execution_count": 33,
     "metadata": {},
     "output_type": "execute_result"
    }
   ],
   "source": [
    "tensor.mean() # Mean of tensor"
   ]
  },
  {
   "cell_type": "code",
   "execution_count": 34,
   "id": "f080a94c",
   "metadata": {},
   "outputs": [
    {
     "data": {
      "text/plain": [
       "tensor(2.9848)"
      ]
     },
     "execution_count": 34,
     "metadata": {},
     "output_type": "execute_result"
    }
   ],
   "source": [
    "tensor.std() # Standard deviation"
   ]
  },
  {
   "cell_type": "code",
   "execution_count": 35,
   "id": "36b038ce",
   "metadata": {},
   "outputs": [
    {
     "data": {
      "text/plain": [
       "tensor([[5.0000, 2.6667],\n",
       "        [3.6667, 4.6667]])"
      ]
     },
     "execution_count": 35,
     "metadata": {},
     "output_type": "execute_result"
    }
   ],
   "source": [
    " \"\"\"It means that the mean is taken along \n",
    "   the first dimension (dimension index starts at 0) of the tensor\"\"\"\n",
    "tensor.mean(0)"
   ]
  },
  {
   "cell_type": "markdown",
   "id": "dadfdccf",
   "metadata": {},
   "source": [
    "# Importing Neural Network With Pytorch"
   ]
  },
  {
   "cell_type": "code",
   "execution_count": 36,
   "id": "bc86a140",
   "metadata": {},
   "outputs": [],
   "source": [
    "import torch.nn as nn"
   ]
  },
  {
   "cell_type": "markdown",
   "id": "f7d5cf27",
   "metadata": {},
   "source": [
    "**Creating a linear layer**"
   ]
  },
  {
   "cell_type": "code",
   "execution_count": 37,
   "id": "521ba580",
   "metadata": {},
   "outputs": [
    {
     "data": {
      "text/plain": [
       "tensor([[-0.0268,  1.1823],\n",
       "        [-0.1940,  0.0876],\n",
       "        [ 1.0420,  0.8522]], grad_fn=<AddmmBackward0>)"
      ]
     },
     "execution_count": 37,
     "metadata": {},
     "output_type": "execute_result"
    }
   ],
   "source": [
    "linear = nn.Linear(10, 2)\n",
    "example_input = torch.randn(3, 10)\n",
    "example_output = linear(example_input)\n",
    "example_output"
   ]
  },
  {
   "cell_type": "markdown",
   "id": "8ba9d7bd",
   "metadata": {},
   "source": [
    "**Creating an object as activation function (ReLU)**"
   ]
  },
  {
   "cell_type": "code",
   "execution_count": 38,
   "id": "722b3ca0",
   "metadata": {},
   "outputs": [
    {
     "data": {
      "text/plain": [
       "tensor([[0.0000, 1.1823],\n",
       "        [0.0000, 0.0876],\n",
       "        [1.0420, 0.8522]], grad_fn=<ReluBackward0>)"
      ]
     },
     "execution_count": 38,
     "metadata": {},
     "output_type": "execute_result"
    }
   ],
   "source": [
    "relu = nn.ReLU()\n",
    "relu_output = relu(example_output)\n",
    "relu_output"
   ]
  },
  {
   "cell_type": "markdown",
   "id": "62401464",
   "metadata": {},
   "source": [
    "**Creating a object for batch normalization**"
   ]
  },
  {
   "cell_type": "code",
   "execution_count": 39,
   "id": "a039d029",
   "metadata": {},
   "outputs": [
    {
     "data": {
      "text/plain": [
       "tensor([[-0.7071,  1.0359],\n",
       "        [-0.7071, -1.3517],\n",
       "        [ 1.4142,  0.3158]], grad_fn=<NativeBatchNormBackward0>)"
      ]
     },
     "execution_count": 39,
     "metadata": {},
     "output_type": "execute_result"
    }
   ],
   "source": [
    "batchnorm = nn.BatchNorm1d(2)\n",
    "batchnorm_output = batchnorm(relu_output)\n",
    "batchnorm_output"
   ]
  },
  {
   "cell_type": "markdown",
   "id": "db2e23d7",
   "metadata": {},
   "source": [
    "**Creating a sequential model**"
   ]
  },
  {
   "cell_type": "code",
   "execution_count": 40,
   "id": "df0e61b3",
   "metadata": {},
   "outputs": [
    {
     "name": "stdout",
     "output_type": "stream",
     "text": [
      "input: \n",
      "tensor([[ 1.0968, -0.2090,  0.3104,  1.2423,  0.2565],\n",
      "        [ 1.8925,  1.9223,  1.6289, -0.8615,  1.9835],\n",
      "        [ 3.1551,  2.5479,  1.1332,  0.2151,  1.5137],\n",
      "        [ 2.2989, -0.1599,  0.4860,  1.1429,  0.9725],\n",
      "        [ 0.6227,  0.5559,  1.1680, -0.2269,  0.4080]])\n",
      "output: \n",
      "tensor([[1.0357, 0.0000],\n",
      "        [0.0000, 0.0000],\n",
      "        [0.0000, 1.7477],\n",
      "        [0.3563, 0.1044],\n",
      "        [0.8197, 0.0000]], grad_fn=<ReluBackward0>)\n"
     ]
    }
   ],
   "source": [
    "mlp_layer = nn.Sequential(\n",
    "    nn.Linear(5, 2),\n",
    "    nn.BatchNorm1d(2),\n",
    "    nn.ReLU()\n",
    ")\n",
    "\n",
    "test_example = torch.randn(5,5) + 1\n",
    "print(\"input: \")\n",
    "print(test_example)\n",
    "print(\"output: \")\n",
    "print(mlp_layer(test_example))"
   ]
  },
  {
   "cell_type": "markdown",
   "id": "5f0f9c13",
   "metadata": {},
   "source": [
    "# Optimization"
   ]
  },
  {
   "cell_type": "code",
   "execution_count": 41,
   "id": "9e054b61",
   "metadata": {},
   "outputs": [],
   "source": [
    "import torch.optim as optim\n",
    "adam_opt = optim.Adam(mlp_layer.parameters(), lr=1e-1)"
   ]
  },
  {
   "cell_type": "code",
   "execution_count": 42,
   "id": "4ae8ceb4",
   "metadata": {},
   "outputs": [
    {
     "name": "stdout",
     "output_type": "stream",
     "text": [
      "tensor(0.7834, grad_fn=<MeanBackward0>)\n"
     ]
    }
   ],
   "source": [
    "train_example = torch.randn(100,5) + 1\n",
    "adam_opt.zero_grad()\n",
    "\n",
    "# We'll use a simple loss function of mean distance from 1\n",
    "# torch.abs takes the absolute value of a tensor\n",
    "cur_loss = torch.abs(1 - mlp_layer(train_example)).mean()\n",
    "\n",
    "cur_loss.backward()\n",
    "adam_opt.step()\n",
    "print(cur_loss)"
   ]
  },
  {
   "cell_type": "code",
   "execution_count": 43,
   "id": "5bb42ce0",
   "metadata": {},
   "outputs": [],
   "source": [
    "class ExampleModule(nn.Module):\n",
    "    def __init__(self, input_dims, output_dims):\n",
    "        super(ExampleModule, self).__init__()\n",
    "        self.linear = nn.Linear(input_dims, output_dims)\n",
    "        self.exponent = nn.Parameter(torch.tensor(1.))\n",
    "\n",
    "    def forward(self, x):\n",
    "        x = self.linear(x)\n",
    "\n",
    "        # This is the notation for element-wise exponentiation, \n",
    "        # which matches python in general\n",
    "        x = x ** self.exponent \n",
    "        \n",
    "        return x"
   ]
  },
  {
   "cell_type": "code",
   "execution_count": 44,
   "id": "e6381c15",
   "metadata": {},
   "outputs": [
    {
     "data": {
      "text/plain": [
       "[Parameter containing:\n",
       " tensor(1., requires_grad=True),\n",
       " Parameter containing:\n",
       " tensor([[-0.0747,  0.0720, -0.1888,  0.1665, -0.2265,  0.2188, -0.1030,  0.2436,\n",
       "           0.0692, -0.1669],\n",
       "         [-0.3081,  0.1533, -0.0430,  0.2525,  0.2850,  0.3080, -0.1822, -0.0738,\n",
       "           0.1754, -0.0195]], requires_grad=True),\n",
       " Parameter containing:\n",
       " tensor([0.1506, 0.2391], requires_grad=True)]"
      ]
     },
     "execution_count": 44,
     "metadata": {},
     "output_type": "execute_result"
    }
   ],
   "source": [
    "example_model = ExampleModule(10, 2)\n",
    "list(example_model.parameters())"
   ]
  },
  {
   "cell_type": "code",
   "execution_count": 45,
   "id": "50adff5b",
   "metadata": {},
   "outputs": [
    {
     "data": {
      "text/plain": [
       "[('exponent',\n",
       "  Parameter containing:\n",
       "  tensor(1., requires_grad=True)),\n",
       " ('linear.weight',\n",
       "  Parameter containing:\n",
       "  tensor([[-0.0747,  0.0720, -0.1888,  0.1665, -0.2265,  0.2188, -0.1030,  0.2436,\n",
       "            0.0692, -0.1669],\n",
       "          [-0.3081,  0.1533, -0.0430,  0.2525,  0.2850,  0.3080, -0.1822, -0.0738,\n",
       "            0.1754, -0.0195]], requires_grad=True)),\n",
       " ('linear.bias',\n",
       "  Parameter containing:\n",
       "  tensor([0.1506, 0.2391], requires_grad=True))]"
      ]
     },
     "execution_count": 45,
     "metadata": {},
     "output_type": "execute_result"
    }
   ],
   "source": [
    "list(example_model.named_parameters())"
   ]
  },
  {
   "cell_type": "code",
   "execution_count": 46,
   "id": "f1762bc0",
   "metadata": {},
   "outputs": [
    {
     "data": {
      "text/plain": [
       "tensor([[0.1640, 0.6303],\n",
       "        [0.2011, 0.6314]], grad_fn=<PowBackward1>)"
      ]
     },
     "execution_count": 46,
     "metadata": {},
     "output_type": "execute_result"
    }
   ],
   "source": [
    "input = torch.randn(2, 10)\n",
    "example_model(input)"
   ]
  },
  {
   "cell_type": "code",
   "execution_count": null,
   "id": "919b8084",
   "metadata": {},
   "outputs": [],
   "source": []
  }
 ],
 "metadata": {
  "kernelspec": {
   "display_name": "Python 3 (ipykernel)",
   "language": "python",
   "name": "python3"
  },
  "language_info": {
   "codemirror_mode": {
    "name": "ipython",
    "version": 3
   },
   "file_extension": ".py",
   "mimetype": "text/x-python",
   "name": "python",
   "nbconvert_exporter": "python",
   "pygments_lexer": "ipython3",
   "version": "3.11.3"
  }
 },
 "nbformat": 4,
 "nbformat_minor": 5
}
